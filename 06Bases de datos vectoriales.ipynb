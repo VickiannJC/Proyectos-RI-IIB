{
  "cells": [
    {
      "cell_type": "markdown",
      "id": "KWWlzDeS8AmO",
      "metadata": {
        "id": "KWWlzDeS8AmO"
      },
      "source": [
        "<div align=\"center\">\n",
        "    <h1>Escuela Politécnica Nacional</h1>\n",
        "    <h3>Recuperación de información</h3>\n",
        "</div>\n",
        "\n",
        "\n",
        "*Taller 06:* Base de datos Vectoriales\n",
        "\n",
        "\n",
        "*Integrantes:*  \n",
        "- Vickiann Jiménez\n",
        "- Gabriela Salazar  \n",
        "- Jostin Vega  \n",
        "\n"
      ]
    },
    {
      "cell_type": "markdown",
      "id": "65eee800-c8ee-4611-894f-6500af430aed",
      "metadata": {
        "id": "65eee800-c8ee-4611-894f-6500af430aed"
      },
      "source": [
        "### Parte 1: Recuperación con TF-IDF"
      ]
    },
    {
      "cell_type": "markdown",
      "id": "b620de5f-36dd-4d54-a8cb-5fa6f1fbad28",
      "metadata": {
        "id": "b620de5f-36dd-4d54-a8cb-5fa6f1fbad28"
      },
      "source": [
        "#### Cargar los datos en Python"
      ]
    },
    {
      "cell_type": "code",
      "execution_count": null,
      "id": "5110a641-d778-41e3-acd1-41a71e1650e0",
      "metadata": {
        "id": "5110a641-d778-41e3-acd1-41a71e1650e0"
      },
      "outputs": [],
      "source": [
        "import pandas as pd\n",
        "from sklearn.feature_extraction.text import TfidfVectorizer\n",
        "from sklearn.metrics.pairwise import cosine_similarity\n"
      ]
    },
    {
      "cell_type": "code",
      "execution_count": null,
      "id": "95637673-2eb0-4ed6-8d9d-5dd1092c4dd9",
      "metadata": {
        "id": "95637673-2eb0-4ed6-8d9d-5dd1092c4dd9",
        "outputId": "db6fd884-22e4-46fb-80d9-f97b69f1c0bb"
      },
      "outputs": [
        {
          "name": "stdout",
          "output_type": "stream",
          "text": [
            "                              Title  \\\n",
            "0            Kansas Saloon Smashers   \n",
            "1     Love by the Light of the Moon   \n",
            "2           The Martyred Presidents   \n",
            "3  Terrible Teddy, the Grizzly King   \n",
            "4            Jack and the Beanstalk   \n",
            "\n",
            "                                                Plot  \n",
            "0  A bartender is working at a saloon, serving dr...  \n",
            "1  The moon, painted with a smiling face hangs ov...  \n",
            "2  The film, just over a minute long, is composed...  \n",
            "3  Lasting just 61 seconds and consisting of two ...  \n",
            "4  The earliest known adaptation of the classic f...  \n"
          ]
        }
      ],
      "source": [
        "# Cargar el dataset\n",
        "df = pd.read_csv('../data/wiki_movie_plots_deduped.csv')\n",
        "# Seleccionar las columnas necesarias\n",
        "df = df[['Title', 'Plot']]\n",
        "print(df.head())\n"
      ]
    },
    {
      "cell_type": "markdown",
      "id": "3be0ef06-9084-4c46-8c3a-f4abdf0d49ca",
      "metadata": {
        "id": "3be0ef06-9084-4c46-8c3a-f4abdf0d49ca"
      },
      "source": [
        "#### Configurar TF-IDF:\n"
      ]
    },
    {
      "cell_type": "code",
      "execution_count": null,
      "id": "fbc62998-a9d9-4904-8978-6a037f3c031c",
      "metadata": {
        "id": "fbc62998-a9d9-4904-8978-6a037f3c031c"
      },
      "outputs": [],
      "source": [
        "# Configurar el vectorizador TF-IDF\n",
        "vectorizer = TfidfVectorizer(stop_words='english')\n",
        "\n",
        "# Crear la matriz TF-IDF\n",
        "tfidf_matrix = vectorizer.fit_transform(df['Plot'])\n"
      ]
    },
    {
      "cell_type": "markdown",
      "id": "bd9a0a69-040d-4980-9f28-a8a6cbcad171",
      "metadata": {
        "id": "bd9a0a69-040d-4980-9f28-a8a6cbcad171"
      },
      "source": [
        "#### Realizar consultas:\n",
        "\n"
      ]
    },
    {
      "cell_type": "code",
      "execution_count": null,
      "id": "c94bd131-721b-447c-85c5-54a1dfaa3674",
      "metadata": {
        "id": "c94bd131-721b-447c-85c5-54a1dfaa3674"
      },
      "outputs": [],
      "source": [
        "# Función para realizar consultas con TF-IDF\n",
        "def search_tfidf(query, top_k=5):\n",
        "    \"\"\"\n",
        "    Realiza una búsqueda en los documentos utilizando la representación TF-IDF.\n",
        "\n",
        "    Parámetros:\n",
        "    query : str\n",
        "        La consulta en formato de texto que el usuario desea buscar en los documentos.\n",
        "    top_k : int, opcional\n",
        "        El número de resultados más relevantes que se devolverán (por defecto es 5).\n",
        "\n",
        "    Retorna:\n",
        "    pd.DataFrame\n",
        "        Un DataFrame con los títulos, tramas y puntajes de similitud de los documentos más relevantes encontrados.\n",
        "        Las columnas del DataFrame incluyen:\n",
        "        - 'Title': El título del documento.\n",
        "        - 'Plot': La trama del documento.\n",
        "        - 'Score': La similitud de coseno entre la consulta y el documento.\n",
        "    \"\"\"\n",
        "    query_vec = vectorizer.transform([query])  # Vectorizar la consulta\n",
        "    similarities = cosine_similarity(query_vec, tfidf_matrix).flatten()  # Calcular similitudes\n",
        "    top_indices = similarities.argsort()[-top_k:][::-1]  # Obtener los índices de los más similares\n",
        "    results = df.iloc[top_indices][['Title', 'Plot']].copy()\n",
        "    results['Score'] = similarities[top_indices]\n",
        "    return results"
      ]
    },
    {
      "cell_type": "code",
      "execution_count": null,
      "id": "e8a8b702-3e17-4e25-826c-32f4af8e9356",
      "metadata": {
        "id": "e8a8b702-3e17-4e25-826c-32f4af8e9356",
        "outputId": "0c35bfcb-7cbc-448a-a700-a181141bdada"
      },
      "outputs": [
        {
          "name": "stdout",
          "output_type": "stream",
          "text": [
            "                                Title  \\\n",
            "12103  We're Back! A Dinosaur's Story   \n",
            "12568                    Theodore Rex   \n",
            "12989                      Future War   \n",
            "21252            The Dinosaur Project   \n",
            "31128                 Adhisaya Ulagam   \n",
            "\n",
            "                                                    Plot     Score  \n",
            "12103  In present-day New York City, an Eastern blueb...  0.467935  \n",
            "12568  In an alternate futuristic society where human...  0.381369  \n",
            "12989  Future War begins aboard a spaceship undergoin...  0.282999  \n",
            "21252  A group of explorers from the British Cryptozo...  0.261480  \n",
            "31128  Professor Neelakantan (J. Livingston) is an ma...  0.241712  \n"
          ]
        }
      ],
      "source": [
        "# Ejemplo de consulta\n",
        "query = \"dinosaurs\"\n",
        "results = search_tfidf(query)\n",
        "print(results)\n"
      ]
    },
    {
      "cell_type": "markdown",
      "id": "6502c29c-846e-483e-bc47-3b32252995b9",
      "metadata": {
        "id": "6502c29c-846e-483e-bc47-3b32252995b9"
      },
      "source": [
        "### Parte 2: Recuperación con BM25"
      ]
    },
    {
      "cell_type": "markdown",
      "id": "8be99bf9-d646-455c-9281-7498fa9e85fe",
      "metadata": {
        "id": "8be99bf9-d646-455c-9281-7498fa9e85fe"
      },
      "source": [
        "#### Configurar Elasticsearch:"
      ]
    },
    {
      "cell_type": "code",
      "execution_count": null,
      "id": "dccf2d23-81cb-4360-b0b4-9e938b954d63",
      "metadata": {
        "id": "dccf2d23-81cb-4360-b0b4-9e938b954d63"
      },
      "outputs": [],
      "source": [
        "from elasticsearch import Elasticsearch\n",
        "from elasticsearch.helpers import bulk\n",
        "import pandas as pd"
      ]
    },
    {
      "cell_type": "code",
      "execution_count": null,
      "id": "55bc352e-40e4-461a-b44d-2c2da2ca3d30",
      "metadata": {
        "id": "55bc352e-40e4-461a-b44d-2c2da2ca3d30"
      },
      "outputs": [],
      "source": [
        "# Conectar a Elasticsearch\n",
        "es = Elasticsearch(\"http://localhost:9200\")"
      ]
    },
    {
      "cell_type": "code",
      "execution_count": null,
      "id": "f944040e-9363-44f4-b22f-51c5b2c6dbc5",
      "metadata": {
        "id": "f944040e-9363-44f4-b22f-51c5b2c6dbc5",
        "outputId": "b63ecefa-c4ad-4dd6-97c9-ac2033483a10"
      },
      "outputs": [
        {
          "name": "stdout",
          "output_type": "stream",
          "text": [
            "Índice 'movie_plots' eliminado.\n",
            "Índice 'movie_plots' creado.\n"
          ]
        }
      ],
      "source": [
        "# Crear índice\n",
        "index_name = \"movie_plots\"\n",
        "\n",
        "# Eliminar el índice si ya existe\n",
        "if es.indices.exists(index=index_name):\n",
        "    es.indices.delete(index=index_name)\n",
        "    print(f\"Índice '{index_name}' eliminado.\")\n",
        "\n",
        "# Crear un nuevo índice\n",
        "es.indices.create(index=index_name)\n",
        "print(f\"Índice '{index_name}' creado.\")"
      ]
    },
    {
      "cell_type": "code",
      "execution_count": null,
      "id": "6ff9e0d3-a63e-4239-aa03-31cd4f863a1a",
      "metadata": {
        "id": "6ff9e0d3-a63e-4239-aa03-31cd4f863a1a",
        "outputId": "892ade55-51f0-43f5-dca0-b123230876a4"
      },
      "outputs": [
        {
          "name": "stdout",
          "output_type": "stream",
          "text": [
            "Indexación completada.\n"
          ]
        }
      ],
      "source": [
        "# Función para indexar datos con el índice original\n",
        "def index_data():\n",
        "    \"\"\"\n",
        "    Genera un conjunto de documentos formateados para indexarlos en Elasticsearch.\n",
        "\n",
        "    Parámetros:\n",
        "    - df: pd.DataFrame\n",
        "        DataFrame que contiene los datos que se indexarán, con las columnas 'Title' (título) y 'Plot' (trama).\n",
        "    - index_name: str\n",
        "        Nombre del índice en Elasticsearch donde se guardarán los documentos.\n",
        "\n",
        "    Retorna:\n",
        "    generator\n",
        "        Generador que produce un diccionario por cada fila del DataFrame, estructurado en el formato esperado por Elasticsearch.\n",
        "    \"\"\"\n",
        "\n",
        "    for idx, row in df.iterrows():\n",
        "        yield {\n",
        "            \"_index\": index_name,\n",
        "            \"_source\": {\n",
        "                \"Index\": int(idx),  # Guardar el índice original como entero\n",
        "                \"Title\": row['Title'],\n",
        "                \"Plot\": row['Plot']\n",
        "            }\n",
        "        }\n",
        "\n",
        "# Indexar los documentos\n",
        "bulk(es, index_data())\n",
        "print(\"Indexación completada.\")"
      ]
    },
    {
      "cell_type": "markdown",
      "id": "ba93ab82-174d-4f81-a1c9-a9f530a4cc40",
      "metadata": {
        "id": "ba93ab82-174d-4f81-a1c9-a9f530a4cc40"
      },
      "source": [
        "#### Realizar consultas:"
      ]
    },
    {
      "cell_type": "code",
      "execution_count": null,
      "id": "63ee2514-582b-418e-8796-0c6f58886123",
      "metadata": {
        "id": "63ee2514-582b-418e-8796-0c6f58886123"
      },
      "outputs": [],
      "source": [
        "# Función para realizar consultas con BM25\n",
        "def search_bm25(query, top_k=5):\n",
        "    \"\"\"\n",
        "    Realiza una consulta en Elasticsearch utilizando el modelo BM25 para recuperar documentos relevantes.\n",
        "\n",
        "    Parámetros:\n",
        "    query : str\n",
        "        La consulta de búsqueda. Es el texto que se usará para encontrar documentos relevantes en la colección.\n",
        "    top_k : int, opcional\n",
        "        Número de resultados más relevantes a recuperar (por defecto es 5).\n",
        "\n",
        "    Retorna:\n",
        "    pd.DataFrame\n",
        "        Un DataFrame que contiene los documentos recuperados, con las siguientes columnas:\n",
        "        - Index: Índice original del documento en el DataFrame `df`.\n",
        "        - Title: Título del documento.\n",
        "        - Plot: Trama del documento.\n",
        "        - Score: Puntaje de relevancia calculado por BM25.\n",
        "    \"\"\"\n",
        "    # Consulta Elasticsearch usando BM25\n",
        "    query_body = {\n",
        "        \"query\": {\n",
        "            \"match\": {\n",
        "                \"Plot\": query\n",
        "            }\n",
        "        },\n",
        "        \"size\": top_k  # Recuperar los top_k resultados\n",
        "    }\n",
        "\n",
        "    response = es.search(index=index_name, body=query_body)\n",
        "\n",
        "    # Procesar los resultados en un DataFrame\n",
        "    results = []\n",
        "    for hit in response['hits']['hits']:\n",
        "        results.append({\n",
        "            \"Index\": hit['_source']['Index'],  # Índice original\n",
        "            \"Title\": hit['_source']['Title'],\n",
        "            \"Plot\": hit['_source']['Plot'],\n",
        "            \"Score\": hit['_score']\n",
        "        })\n",
        "\n",
        "    # Crear un DataFrame\n",
        "    df_results = pd.DataFrame(results).set_index(\"Index\")  # Establecer el índice original como índice del DataFrame\n",
        "    return df_results"
      ]
    },
    {
      "cell_type": "code",
      "execution_count": null,
      "id": "c4a5795f-066f-46be-88db-344245dc0fad",
      "metadata": {
        "id": "c4a5795f-066f-46be-88db-344245dc0fad",
        "outputId": "424f1907-435e-4830-fe2c-034a5f64a831"
      },
      "outputs": [
        {
          "name": "stdout",
          "output_type": "stream",
          "text": [
            "                                Title  \\\n",
            "Index                                   \n",
            "12103  We're Back! A Dinosaur's Story   \n",
            "12568                    Theodore Rex   \n",
            "12989                      Future War   \n",
            "4803                   Unknown Island   \n",
            "31128                 Adhisaya Ulagam   \n",
            "\n",
            "                                                    Plot      Score  \n",
            "Index                                                                \n",
            "12103  In present-day New York City, an Eastern blueb...  12.856184  \n",
            "12568  In an alternate futuristic society where human...  11.746374  \n",
            "12989  Future War begins aboard a spaceship undergoin...  11.591837  \n",
            "4803   Adventure-seeker Ted Osborne (Phillip Reed) an...  11.046180  \n",
            "31128  Professor Neelakantan (J. Livingston) is an ma...  10.903929  \n"
          ]
        }
      ],
      "source": [
        "# Ejemplo de consulta\n",
        "query = \"dinosaurs\"\n",
        "results = search_bm25(query)\n",
        "print(results)"
      ]
    },
    {
      "cell_type": "markdown",
      "id": "c73fb573-8e96-4519-b6f4-0e862d0ebeb5",
      "metadata": {
        "id": "c73fb573-8e96-4519-b6f4-0e862d0ebeb5"
      },
      "source": [
        "### Parte 3: Recuperación con FAISS"
      ]
    },
    {
      "cell_type": "markdown",
      "id": "dadde82f-30b0-4c30-b3ad-f73fa1298e3b",
      "metadata": {
        "id": "dadde82f-30b0-4c30-b3ad-f73fa1298e3b"
      },
      "source": [
        "#### Configurar FAISS:"
      ]
    },
    {
      "cell_type": "code",
      "execution_count": null,
      "id": "c7dfe42b-277d-4845-8b5f-670541bbc120",
      "metadata": {
        "id": "c7dfe42b-277d-4845-8b5f-670541bbc120",
        "outputId": "f44b2ce8-e5ac-454c-82e2-b035a829d7e2",
        "scrolled": true
      },
      "outputs": [
        {
          "name": "stdout",
          "output_type": "stream",
          "text": [
            "Requirement already satisfied: sentence-transformers in c:\\users\\user\\anaconda3\\lib\\site-packages (3.3.1)\n",
            "Requirement already satisfied: faiss-cpu in c:\\users\\user\\anaconda3\\lib\\site-packages (1.9.0.post1)\n",
            "Requirement already satisfied: transformers<5.0.0,>=4.41.0 in c:\\users\\user\\anaconda3\\lib\\site-packages (from sentence-transformers) (4.47.1)\n",
            "Requirement already satisfied: tqdm in c:\\users\\user\\anaconda3\\lib\\site-packages (from sentence-transformers) (4.65.0)\n",
            "Requirement already satisfied: torch>=1.11.0 in c:\\users\\user\\anaconda3\\lib\\site-packages (from sentence-transformers) (2.5.1)\n",
            "Requirement already satisfied: scikit-learn in c:\\users\\user\\anaconda3\\lib\\site-packages (from sentence-transformers) (1.2.2)\n",
            "Requirement already satisfied: scipy in c:\\users\\user\\anaconda3\\lib\\site-packages (from sentence-transformers) (1.11.4)\n",
            "Requirement already satisfied: huggingface-hub>=0.20.0 in c:\\users\\user\\anaconda3\\lib\\site-packages (from sentence-transformers) (0.27.0)\n",
            "Requirement already satisfied: Pillow in c:\\users\\user\\anaconda3\\lib\\site-packages (from sentence-transformers) (10.2.0)\n",
            "Requirement already satisfied: numpy<3.0,>=1.25.0 in c:\\users\\user\\anaconda3\\lib\\site-packages (from faiss-cpu) (1.26.4)\n",
            "Requirement already satisfied: packaging in c:\\users\\user\\anaconda3\\lib\\site-packages (from faiss-cpu) (23.1)\n",
            "Requirement already satisfied: filelock in c:\\users\\user\\anaconda3\\lib\\site-packages (from huggingface-hub>=0.20.0->sentence-transformers) (3.13.1)\n",
            "Requirement already satisfied: fsspec>=2023.5.0 in c:\\users\\user\\anaconda3\\lib\\site-packages (from huggingface-hub>=0.20.0->sentence-transformers) (2023.10.0)\n",
            "Requirement already satisfied: pyyaml>=5.1 in c:\\users\\user\\anaconda3\\lib\\site-packages (from huggingface-hub>=0.20.0->sentence-transformers) (6.0.1)\n",
            "Requirement already satisfied: requests in c:\\users\\user\\anaconda3\\lib\\site-packages (from huggingface-hub>=0.20.0->sentence-transformers) (2.31.0)\n",
            "Requirement already satisfied: typing-extensions>=3.7.4.3 in c:\\users\\user\\anaconda3\\lib\\site-packages (from huggingface-hub>=0.20.0->sentence-transformers) (4.9.0)\n",
            "Requirement already satisfied: networkx in c:\\users\\user\\anaconda3\\lib\\site-packages (from torch>=1.11.0->sentence-transformers) (3.1)\n",
            "Requirement already satisfied: jinja2 in c:\\users\\user\\anaconda3\\lib\\site-packages (from torch>=1.11.0->sentence-transformers) (3.1.3)\n",
            "Requirement already satisfied: sympy==1.13.1 in c:\\users\\user\\anaconda3\\lib\\site-packages (from torch>=1.11.0->sentence-transformers) (1.13.1)\n",
            "Requirement already satisfied: mpmath<1.4,>=1.1.0 in c:\\users\\user\\anaconda3\\lib\\site-packages (from sympy==1.13.1->torch>=1.11.0->sentence-transformers) (1.3.0)\n",
            "Requirement already satisfied: colorama in c:\\users\\user\\anaconda3\\lib\\site-packages (from tqdm->sentence-transformers) (0.4.6)\n",
            "Requirement already satisfied: regex!=2019.12.17 in c:\\users\\user\\anaconda3\\lib\\site-packages (from transformers<5.0.0,>=4.41.0->sentence-transformers) (2023.10.3)\n",
            "Requirement already satisfied: tokenizers<0.22,>=0.21 in c:\\users\\user\\anaconda3\\lib\\site-packages (from transformers<5.0.0,>=4.41.0->sentence-transformers) (0.21.0)\n",
            "Requirement already satisfied: safetensors>=0.4.1 in c:\\users\\user\\anaconda3\\lib\\site-packages (from transformers<5.0.0,>=4.41.0->sentence-transformers) (0.5.0)\n",
            "Requirement already satisfied: joblib>=1.1.1 in c:\\users\\user\\anaconda3\\lib\\site-packages (from scikit-learn->sentence-transformers) (1.2.0)\n",
            "Requirement already satisfied: threadpoolctl>=2.0.0 in c:\\users\\user\\anaconda3\\lib\\site-packages (from scikit-learn->sentence-transformers) (2.2.0)\n",
            "Requirement already satisfied: MarkupSafe>=2.0 in c:\\users\\user\\anaconda3\\lib\\site-packages (from jinja2->torch>=1.11.0->sentence-transformers) (2.1.3)\n",
            "Requirement already satisfied: charset-normalizer<4,>=2 in c:\\users\\user\\anaconda3\\lib\\site-packages (from requests->huggingface-hub>=0.20.0->sentence-transformers) (2.0.4)\n",
            "Requirement already satisfied: idna<4,>=2.5 in c:\\users\\user\\anaconda3\\lib\\site-packages (from requests->huggingface-hub>=0.20.0->sentence-transformers) (3.4)\n",
            "Requirement already satisfied: urllib3<3,>=1.21.1 in c:\\users\\user\\anaconda3\\lib\\site-packages (from requests->huggingface-hub>=0.20.0->sentence-transformers) (2.0.7)\n",
            "Requirement already satisfied: certifi>=2017.4.17 in c:\\users\\user\\anaconda3\\lib\\site-packages (from requests->huggingface-hub>=0.20.0->sentence-transformers) (2024.12.14)\n",
            "Note: you may need to restart the kernel to use updated packages.\n"
          ]
        }
      ],
      "source": [
        "pip install sentence-transformers faiss-cpu\n"
      ]
    },
    {
      "cell_type": "code",
      "execution_count": null,
      "id": "763006c7-d7af-43a5-9db3-323a74753504",
      "metadata": {
        "id": "763006c7-d7af-43a5-9db3-323a74753504"
      },
      "outputs": [],
      "source": [
        "from sentence_transformers import SentenceTransformer\n",
        "import numpy as np\n",
        "from tqdm import tqdm  # Para mostrar barra de progreso\n",
        "import os\n",
        "import faiss"
      ]
    },
    {
      "cell_type": "code",
      "execution_count": null,
      "id": "f63e3b50-9fdd-4b64-84dd-7d9343ede811",
      "metadata": {
        "id": "f63e3b50-9fdd-4b64-84dd-7d9343ede811"
      },
      "outputs": [],
      "source": [
        "os.environ[\"HF_HUB_DISABLE_SYMLINKS_WARNING\"] = \"1\""
      ]
    },
    {
      "cell_type": "code",
      "execution_count": null,
      "id": "262c5136-1ab5-41ae-9fa0-c8ff1029bb3a",
      "metadata": {
        "id": "262c5136-1ab5-41ae-9fa0-c8ff1029bb3a",
        "outputId": "e1cfcb35-d4aa-4cb1-819f-ed5e541c23a1"
      },
      "outputs": [
        {
          "name": "stdout",
          "output_type": "stream",
          "text": [
            "Generating embeddings...\n"
          ]
        },
        {
          "name": "stderr",
          "output_type": "stream",
          "text": [
            "Processing batches: 100%|██████████| 546/546 [43:53<00:00,  4.82s/it]"
          ]
        },
        {
          "name": "stdout",
          "output_type": "stream",
          "text": [
            "Shape of embeddings: (34886, 384)\n"
          ]
        },
        {
          "name": "stderr",
          "output_type": "stream",
          "text": [
            "\n"
          ]
        }
      ],
      "source": [
        "# Cargar modelo preentrenado\n",
        "model = SentenceTransformer('all-MiniLM-L6-v2')\n",
        "#model = SentenceTransformer('paraphrase-MiniLM-L3-v2')  # Modelo más rápido\n",
        "\n",
        "# Dividir el trabajo en lotes\n",
        "batch_size = 64\n",
        "plots = df['Plot'].tolist()\n",
        "\n",
        "# Inicializar lista para almacenar los embeddings\n",
        "embeddings = []\n",
        "\n",
        "print(\"Generating embeddings...\")\n",
        "\n",
        "# Procesar los datos en lotes y mostrar el progreso\n",
        "for i in tqdm(range(0, len(plots), batch_size), desc=\"Processing batches\"):\n",
        "    batch = plots[i:i + batch_size]\n",
        "    batch_embeddings = model.encode(batch)  # Generar embeddings para el lote\n",
        "    embeddings.extend(batch_embeddings)  # Agregar al resultado final\n",
        "\n",
        "# Convertir los embeddings a un formato NumPy\n",
        "embeddings = np.array(embeddings)\n",
        "\n",
        "print(f\"Shape of embeddings: {embeddings.shape}\")\n"
      ]
    },
    {
      "cell_type": "code",
      "execution_count": null,
      "id": "163860de-f2e1-4e35-9997-afe7f818b01c",
      "metadata": {
        "id": "163860de-f2e1-4e35-9997-afe7f818b01c",
        "outputId": "2262a463-97fb-47bf-954e-874875799421"
      },
      "outputs": [
        {
          "name": "stdout",
          "output_type": "stream",
          "text": [
            "Total vectors in the index: 34886\n"
          ]
        }
      ],
      "source": [
        "# Crear el índice FAISS\n",
        "dimension = embeddings.shape[1]  # Dimensión de los embeddings\n",
        "index = faiss.IndexFlatL2(dimension)  # Usar métrica de distancia Euclidiana (L2)\n",
        "\n",
        "# Agregar los embeddings al índice\n",
        "index.add(embeddings)\n",
        "\n",
        "print(f\"Total vectors in the index: {index.ntotal}\")\n"
      ]
    },
    {
      "cell_type": "markdown",
      "id": "785a187a-affa-4058-978a-bc6fea5b6321",
      "metadata": {
        "id": "785a187a-affa-4058-978a-bc6fea5b6321"
      },
      "source": [
        "#### Realizar consultas:"
      ]
    },
    {
      "cell_type": "code",
      "execution_count": null,
      "id": "cca26e00-4965-4d7e-a86d-49b08af58c7e",
      "metadata": {
        "id": "cca26e00-4965-4d7e-a86d-49b08af58c7e"
      },
      "outputs": [],
      "source": [
        "# Función para realizar consultas con FAISS\n",
        "def search_faiss(query, top_k=5):\n",
        "    \"\"\"\n",
        "    Realiza una consulta en el índice FAISS para recuperar los documentos más relevantes basados en embeddings.\n",
        "\n",
        "    Parámetros:\n",
        "    query : str\n",
        "        La consulta de búsqueda. Es el texto que se usará para generar un embedding y encontrar documentos relevantes.\n",
        "    top_k : int, opcional\n",
        "        Número de resultados más relevantes a recuperar (por defecto es 5).\n",
        "\n",
        "    Retorna:\n",
        "    pd.DataFrame\n",
        "        Un DataFrame que contiene los documentos recuperados, con las siguientes columnas:\n",
        "        - Title: Título del documento.\n",
        "        - Plot: Trama del documento.\n",
        "        - Distance: Distancia calculada en el espacio de embeddings (entre menor la distancia, mayor la relevancia).\n",
        "\n",
        "    \"\"\"\n",
        "    # Generar embedding para la consulta\n",
        "    query_vec = model.encode([query])\n",
        "\n",
        "    # Buscar los vecinos más cercanos\n",
        "    distances, indices = index.search(query_vec, top_k)\n",
        "\n",
        "    # Obtener los resultados correspondientes\n",
        "    results = df.iloc[indices.flatten()][['Title', 'Plot']].copy()\n",
        "    results['Distance'] = distances.flatten()  # Agregar la distancia como métrica de relevancia\n",
        "    return results"
      ]
    },
    {
      "cell_type": "code",
      "execution_count": null,
      "id": "14670ef5-2cc2-4e4d-8be0-7b0ce99dba15",
      "metadata": {
        "id": "14670ef5-2cc2-4e4d-8be0-7b0ce99dba15",
        "outputId": "8506ef6e-8d59-4169-e5a4-0d3c932435f3"
      },
      "outputs": [
        {
          "name": "stdout",
          "output_type": "stream",
          "text": [
            "                                              Title  \\\n",
            "12016                                 Jurassic Park   \n",
            "10697  Dinosaurs! – A Fun-Filled Trip Back in Time!   \n",
            "7374                                 The Lost World   \n",
            "12568                                  Theodore Rex   \n",
            "10321               Baby: Secret of the Lost Legend   \n",
            "\n",
            "                                                    Plot  Distance  \n",
            "12016  Industrialist John Hammond and his bioengineer...  1.004112  \n",
            "10697  The video—with beginning scenes filmed in 1987...  1.023169  \n",
            "7374   Professor Challenger (Claude Rains), a famed b...  1.030121  \n",
            "12568  In an alternate futuristic society where human...  1.031269  \n",
            "10321  During an expedition into Central Africa, pale...  1.061895  \n"
          ]
        }
      ],
      "source": [
        "# Ejemplo de consulta\n",
        "query = \"dinosaurs\"\n",
        "results = search_faiss(query)\n",
        "print(results)"
      ]
    },
    {
      "cell_type": "markdown",
      "id": "36f1bec7-680f-42c6-adc1-751b28aba41b",
      "metadata": {
        "id": "36f1bec7-680f-42c6-adc1-751b28aba41b"
      },
      "source": [
        "### Parte 4: Recuperación con ChromaDB"
      ]
    },
    {
      "cell_type": "code",
      "execution_count": null,
      "id": "b6bbbacf-ca91-4f7c-885c-699f17b3614f",
      "metadata": {
        "id": "b6bbbacf-ca91-4f7c-885c-699f17b3614f",
        "outputId": "7c712fe7-0b70-4c3d-8c7c-f04a5cc38a64",
        "scrolled": true
      },
      "outputs": [
        {
          "name": "stdout",
          "output_type": "stream",
          "text": [
            "Requirement already satisfied: chromadb in c:\\users\\user\\anaconda3\\lib\\site-packages (0.6.2)\n",
            "Requirement already satisfied: build>=1.0.3 in c:\\users\\user\\anaconda3\\lib\\site-packages (from chromadb) (1.2.2.post1)\n",
            "Requirement already satisfied: pydantic>=1.9 in c:\\users\\user\\anaconda3\\lib\\site-packages (from chromadb) (1.10.12)\n",
            "Requirement already satisfied: chroma-hnswlib==0.7.6 in c:\\users\\user\\anaconda3\\lib\\site-packages (from chromadb) (0.7.6)\n",
            "Requirement already satisfied: fastapi>=0.95.2 in c:\\users\\user\\anaconda3\\lib\\site-packages (from chromadb) (0.115.6)\n",
            "Requirement already satisfied: uvicorn>=0.18.3 in c:\\users\\user\\anaconda3\\lib\\site-packages (from uvicorn[standard]>=0.18.3->chromadb) (0.34.0)\n",
            "Requirement already satisfied: numpy>=1.22.5 in c:\\users\\user\\anaconda3\\lib\\site-packages (from chromadb) (1.26.4)\n",
            "Requirement already satisfied: posthog>=2.4.0 in c:\\users\\user\\anaconda3\\lib\\site-packages (from chromadb) (3.7.5)\n",
            "Requirement already satisfied: typing_extensions>=4.5.0 in c:\\users\\user\\anaconda3\\lib\\site-packages (from chromadb) (4.9.0)\n",
            "Requirement already satisfied: onnxruntime>=1.14.1 in c:\\users\\user\\anaconda3\\lib\\site-packages (from chromadb) (1.20.1)\n",
            "Requirement already satisfied: opentelemetry-api>=1.2.0 in c:\\users\\user\\anaconda3\\lib\\site-packages (from chromadb) (1.29.0)\n",
            "Requirement already satisfied: opentelemetry-exporter-otlp-proto-grpc>=1.2.0 in c:\\users\\user\\anaconda3\\lib\\site-packages (from chromadb) (1.29.0)\n",
            "Requirement already satisfied: opentelemetry-instrumentation-fastapi>=0.41b0 in c:\\users\\user\\anaconda3\\lib\\site-packages (from chromadb) (0.50b0)\n",
            "Requirement already satisfied: opentelemetry-sdk>=1.2.0 in c:\\users\\user\\anaconda3\\lib\\site-packages (from chromadb) (1.29.0)\n",
            "Requirement already satisfied: tokenizers>=0.13.2 in c:\\users\\user\\anaconda3\\lib\\site-packages (from chromadb) (0.21.0)\n",
            "Requirement already satisfied: pypika>=0.48.9 in c:\\users\\user\\anaconda3\\lib\\site-packages (from chromadb) (0.48.9)\n",
            "Requirement already satisfied: tqdm>=4.65.0 in c:\\users\\user\\anaconda3\\lib\\site-packages (from chromadb) (4.65.0)\n",
            "Requirement already satisfied: overrides>=7.3.1 in c:\\users\\user\\anaconda3\\lib\\site-packages (from chromadb) (7.4.0)\n",
            "Requirement already satisfied: importlib-resources in c:\\users\\user\\anaconda3\\lib\\site-packages (from chromadb) (6.5.2)\n",
            "Requirement already satisfied: grpcio>=1.58.0 in c:\\users\\user\\anaconda3\\lib\\site-packages (from chromadb) (1.69.0)\n",
            "Requirement already satisfied: bcrypt>=4.0.1 in c:\\users\\user\\anaconda3\\lib\\site-packages (from chromadb) (4.2.1)\n",
            "Requirement already satisfied: typer>=0.9.0 in c:\\users\\user\\anaconda3\\lib\\site-packages (from chromadb) (0.15.1)\n",
            "Requirement already satisfied: kubernetes>=28.1.0 in c:\\users\\user\\anaconda3\\lib\\site-packages (from chromadb) (31.0.0)\n",
            "Requirement already satisfied: tenacity>=8.2.3 in c:\\users\\user\\anaconda3\\lib\\site-packages (from chromadb) (9.0.0)\n",
            "Requirement already satisfied: PyYAML>=6.0.0 in c:\\users\\user\\anaconda3\\lib\\site-packages (from chromadb) (6.0.1)\n",
            "Requirement already satisfied: mmh3>=4.0.1 in c:\\users\\user\\anaconda3\\lib\\site-packages (from chromadb) (5.0.1)\n",
            "Requirement already satisfied: orjson>=3.9.12 in c:\\users\\user\\anaconda3\\lib\\site-packages (from chromadb) (3.10.14)\n",
            "Requirement already satisfied: httpx>=0.27.0 in c:\\users\\user\\anaconda3\\lib\\site-packages (from chromadb) (0.28.1)\n",
            "Requirement already satisfied: rich>=10.11.0 in c:\\users\\user\\anaconda3\\lib\\site-packages (from chromadb) (13.3.5)\n",
            "Requirement already satisfied: packaging>=19.1 in c:\\users\\user\\anaconda3\\lib\\site-packages (from build>=1.0.3->chromadb) (23.1)\n",
            "Requirement already satisfied: pyproject_hooks in c:\\users\\user\\anaconda3\\lib\\site-packages (from build>=1.0.3->chromadb) (1.2.0)\n",
            "Requirement already satisfied: colorama in c:\\users\\user\\anaconda3\\lib\\site-packages (from build>=1.0.3->chromadb) (0.4.6)\n",
            "Requirement already satisfied: starlette<0.42.0,>=0.40.0 in c:\\users\\user\\anaconda3\\lib\\site-packages (from fastapi>=0.95.2->chromadb) (0.41.3)\n",
            "Requirement already satisfied: anyio in c:\\users\\user\\anaconda3\\lib\\site-packages (from httpx>=0.27.0->chromadb) (4.2.0)\n",
            "Requirement already satisfied: certifi in c:\\users\\user\\anaconda3\\lib\\site-packages (from httpx>=0.27.0->chromadb) (2024.12.14)\n",
            "Requirement already satisfied: httpcore==1.* in c:\\users\\user\\anaconda3\\lib\\site-packages (from httpx>=0.27.0->chromadb) (1.0.7)\n",
            "Requirement already satisfied: idna in c:\\users\\user\\anaconda3\\lib\\site-packages (from httpx>=0.27.0->chromadb) (3.4)\n",
            "Requirement already satisfied: h11<0.15,>=0.13 in c:\\users\\user\\anaconda3\\lib\\site-packages (from httpcore==1.*->httpx>=0.27.0->chromadb) (0.14.0)\n",
            "Requirement already satisfied: six>=1.9.0 in c:\\users\\user\\anaconda3\\lib\\site-packages (from kubernetes>=28.1.0->chromadb) (1.16.0)\n",
            "Requirement already satisfied: python-dateutil>=2.5.3 in c:\\users\\user\\anaconda3\\lib\\site-packages (from kubernetes>=28.1.0->chromadb) (2.8.2)\n",
            "Requirement already satisfied: google-auth>=1.0.1 in c:\\users\\user\\anaconda3\\lib\\site-packages (from kubernetes>=28.1.0->chromadb) (2.28.1)\n",
            "Requirement already satisfied: websocket-client!=0.40.0,!=0.41.*,!=0.42.*,>=0.32.0 in c:\\users\\user\\anaconda3\\lib\\site-packages (from kubernetes>=28.1.0->chromadb) (0.58.0)\n",
            "Requirement already satisfied: requests in c:\\users\\user\\anaconda3\\lib\\site-packages (from kubernetes>=28.1.0->chromadb) (2.31.0)\n",
            "Requirement already satisfied: requests-oauthlib in c:\\users\\user\\anaconda3\\lib\\site-packages (from kubernetes>=28.1.0->chromadb) (1.3.1)\n",
            "Requirement already satisfied: oauthlib>=3.2.2 in c:\\users\\user\\anaconda3\\lib\\site-packages (from kubernetes>=28.1.0->chromadb) (3.2.2)\n",
            "Requirement already satisfied: urllib3>=1.24.2 in c:\\users\\user\\anaconda3\\lib\\site-packages (from kubernetes>=28.1.0->chromadb) (2.0.7)\n",
            "Requirement already satisfied: durationpy>=0.7 in c:\\users\\user\\anaconda3\\lib\\site-packages (from kubernetes>=28.1.0->chromadb) (0.9)\n",
            "Requirement already satisfied: coloredlogs in c:\\users\\user\\anaconda3\\lib\\site-packages (from onnxruntime>=1.14.1->chromadb) (15.0.1)\n",
            "Requirement already satisfied: flatbuffers in c:\\users\\user\\anaconda3\\lib\\site-packages (from onnxruntime>=1.14.1->chromadb) (23.5.26)\n",
            "Requirement already satisfied: protobuf in c:\\users\\user\\anaconda3\\lib\\site-packages (from onnxruntime>=1.14.1->chromadb) (5.29.3)\n",
            "Requirement already satisfied: sympy in c:\\users\\user\\anaconda3\\lib\\site-packages (from onnxruntime>=1.14.1->chromadb) (1.13.1)\n",
            "Requirement already satisfied: deprecated>=1.2.6 in c:\\users\\user\\anaconda3\\lib\\site-packages (from opentelemetry-api>=1.2.0->chromadb) (1.2.15)\n",
            "Requirement already satisfied: importlib-metadata<=8.5.0,>=6.0 in c:\\users\\user\\anaconda3\\lib\\site-packages (from opentelemetry-api>=1.2.0->chromadb) (7.0.1)\n",
            "Requirement already satisfied: googleapis-common-protos~=1.52 in c:\\users\\user\\anaconda3\\lib\\site-packages (from opentelemetry-exporter-otlp-proto-grpc>=1.2.0->chromadb) (1.66.0)\n",
            "Requirement already satisfied: opentelemetry-exporter-otlp-proto-common==1.29.0 in c:\\users\\user\\anaconda3\\lib\\site-packages (from opentelemetry-exporter-otlp-proto-grpc>=1.2.0->chromadb) (1.29.0)\n",
            "Requirement already satisfied: opentelemetry-proto==1.29.0 in c:\\users\\user\\anaconda3\\lib\\site-packages (from opentelemetry-exporter-otlp-proto-grpc>=1.2.0->chromadb) (1.29.0)\n",
            "Requirement already satisfied: opentelemetry-instrumentation-asgi==0.50b0 in c:\\users\\user\\anaconda3\\lib\\site-packages (from opentelemetry-instrumentation-fastapi>=0.41b0->chromadb) (0.50b0)\n",
            "Requirement already satisfied: opentelemetry-instrumentation==0.50b0 in c:\\users\\user\\anaconda3\\lib\\site-packages (from opentelemetry-instrumentation-fastapi>=0.41b0->chromadb) (0.50b0)\n",
            "Requirement already satisfied: opentelemetry-semantic-conventions==0.50b0 in c:\\users\\user\\anaconda3\\lib\\site-packages (from opentelemetry-instrumentation-fastapi>=0.41b0->chromadb) (0.50b0)\n",
            "Requirement already satisfied: opentelemetry-util-http==0.50b0 in c:\\users\\user\\anaconda3\\lib\\site-packages (from opentelemetry-instrumentation-fastapi>=0.41b0->chromadb) (0.50b0)\n",
            "Requirement already satisfied: wrapt<2.0.0,>=1.0.0 in c:\\users\\user\\anaconda3\\lib\\site-packages (from opentelemetry-instrumentation==0.50b0->opentelemetry-instrumentation-fastapi>=0.41b0->chromadb) (1.14.1)\n",
            "Requirement already satisfied: asgiref~=3.0 in c:\\users\\user\\anaconda3\\lib\\site-packages (from opentelemetry-instrumentation-asgi==0.50b0->opentelemetry-instrumentation-fastapi>=0.41b0->chromadb) (3.8.1)\n",
            "Requirement already satisfied: monotonic>=1.5 in c:\\users\\user\\anaconda3\\lib\\site-packages (from posthog>=2.4.0->chromadb) (1.6)\n",
            "Requirement already satisfied: backoff>=1.10.0 in c:\\users\\user\\anaconda3\\lib\\site-packages (from posthog>=2.4.0->chromadb) (2.2.1)\n",
            "Requirement already satisfied: markdown-it-py<3.0.0,>=2.2.0 in c:\\users\\user\\anaconda3\\lib\\site-packages (from rich>=10.11.0->chromadb) (2.2.0)\n",
            "Requirement already satisfied: pygments<3.0.0,>=2.13.0 in c:\\users\\user\\anaconda3\\lib\\site-packages (from rich>=10.11.0->chromadb) (2.15.1)\n",
            "Requirement already satisfied: huggingface-hub<1.0,>=0.16.4 in c:\\users\\user\\anaconda3\\lib\\site-packages (from tokenizers>=0.13.2->chromadb) (0.27.0)\n",
            "Requirement already satisfied: click>=8.0.0 in c:\\users\\user\\anaconda3\\lib\\site-packages (from typer>=0.9.0->chromadb) (8.1.7)\n",
            "Requirement already satisfied: shellingham>=1.3.0 in c:\\users\\user\\anaconda3\\lib\\site-packages (from typer>=0.9.0->chromadb) (1.5.4)\n",
            "Requirement already satisfied: httptools>=0.6.3 in c:\\users\\user\\anaconda3\\lib\\site-packages (from uvicorn[standard]>=0.18.3->chromadb) (0.6.4)\n",
            "Requirement already satisfied: python-dotenv>=0.13 in c:\\users\\user\\anaconda3\\lib\\site-packages (from uvicorn[standard]>=0.18.3->chromadb) (0.21.0)\n",
            "Requirement already satisfied: watchfiles>=0.13 in c:\\users\\user\\anaconda3\\lib\\site-packages (from uvicorn[standard]>=0.18.3->chromadb) (1.0.4)\n",
            "Requirement already satisfied: websockets>=10.4 in c:\\users\\user\\anaconda3\\lib\\site-packages (from uvicorn[standard]>=0.18.3->chromadb) (14.1)\n",
            "Requirement already satisfied: cachetools<6.0,>=2.0.0 in c:\\users\\user\\anaconda3\\lib\\site-packages (from google-auth>=1.0.1->kubernetes>=28.1.0->chromadb) (4.2.2)\n",
            "Requirement already satisfied: pyasn1-modules>=0.2.1 in c:\\users\\user\\anaconda3\\lib\\site-packages (from google-auth>=1.0.1->kubernetes>=28.1.0->chromadb) (0.2.8)\n",
            "Requirement already satisfied: rsa<5,>=3.1.4 in c:\\users\\user\\anaconda3\\lib\\site-packages (from google-auth>=1.0.1->kubernetes>=28.1.0->chromadb) (4.9)\n",
            "Requirement already satisfied: filelock in c:\\users\\user\\anaconda3\\lib\\site-packages (from huggingface-hub<1.0,>=0.16.4->tokenizers>=0.13.2->chromadb) (3.13.1)\n",
            "Requirement already satisfied: fsspec>=2023.5.0 in c:\\users\\user\\anaconda3\\lib\\site-packages (from huggingface-hub<1.0,>=0.16.4->tokenizers>=0.13.2->chromadb) (2023.10.0)\n",
            "Requirement already satisfied: zipp>=0.5 in c:\\users\\user\\anaconda3\\lib\\site-packages (from importlib-metadata<=8.5.0,>=6.0->opentelemetry-api>=1.2.0->chromadb) (3.17.0)\n",
            "Requirement already satisfied: mdurl~=0.1 in c:\\users\\user\\anaconda3\\lib\\site-packages (from markdown-it-py<3.0.0,>=2.2.0->rich>=10.11.0->chromadb) (0.1.0)\n",
            "Requirement already satisfied: charset-normalizer<4,>=2 in c:\\users\\user\\anaconda3\\lib\\site-packages (from requests->kubernetes>=28.1.0->chromadb) (2.0.4)\n",
            "Requirement already satisfied: sniffio>=1.1 in c:\\users\\user\\anaconda3\\lib\\site-packages (from anyio->httpx>=0.27.0->chromadb) (1.3.0)\n",
            "Requirement already satisfied: humanfriendly>=9.1 in c:\\users\\user\\anaconda3\\lib\\site-packages (from coloredlogs->onnxruntime>=1.14.1->chromadb) (10.0)\n",
            "Requirement already satisfied: mpmath<1.4,>=1.1.0 in c:\\users\\user\\anaconda3\\lib\\site-packages (from sympy->onnxruntime>=1.14.1->chromadb) (1.3.0)\n",
            "Requirement already satisfied: pyreadline3 in c:\\users\\user\\anaconda3\\lib\\site-packages (from humanfriendly>=9.1->coloredlogs->onnxruntime>=1.14.1->chromadb) (3.5.4)\n",
            "Requirement already satisfied: pyasn1<0.5.0,>=0.4.6 in c:\\users\\user\\anaconda3\\lib\\site-packages (from pyasn1-modules>=0.2.1->google-auth>=1.0.1->kubernetes>=28.1.0->chromadb) (0.4.8)\n",
            "Note: you may need to restart the kernel to use updated packages.\n"
          ]
        }
      ],
      "source": [
        "pip install chromadb\n"
      ]
    },
    {
      "cell_type": "code",
      "execution_count": null,
      "id": "5f9a269a-9237-447a-b9c9-26a65a6d6ce0",
      "metadata": {
        "id": "5f9a269a-9237-447a-b9c9-26a65a6d6ce0"
      },
      "outputs": [],
      "source": [
        "import chromadb\n",
        "from chromadb.utils import embedding_functions\n",
        "import pandas as pd"
      ]
    },
    {
      "cell_type": "markdown",
      "id": "38cc9643-3501-4505-8af4-faffa096eaa4",
      "metadata": {
        "id": "38cc9643-3501-4505-8af4-faffa096eaa4"
      },
      "source": [
        "#### Configurar ChromaDB:"
      ]
    },
    {
      "cell_type": "code",
      "execution_count": null,
      "id": "e79a454d-a7d1-418d-9489-fdc1e14e6841",
      "metadata": {
        "id": "e79a454d-a7d1-418d-9489-fdc1e14e6841"
      },
      "outputs": [],
      "source": [
        "chroma_client = chromadb.Client()\n",
        "\n",
        "# Crear una colección para almacenar los embeddings\n",
        "collection_name = \"movie_plots_collection\"\n",
        "existing_collections = chroma_client.list_collections()\n",
        "\n",
        "# Comprobar si la colección ya existe\n",
        "if collection_name in existing_collections:\n",
        "    chroma_client.delete_collection(name=collection_name)  # Si ya existe, eliminarla\n",
        "\n",
        "collection = chroma_client.create_collection(name=collection_name)"
      ]
    },
    {
      "cell_type": "markdown",
      "id": "4227bd1b-c1ab-46f5-815e-5a1c638f3eb8",
      "metadata": {
        "id": "4227bd1b-c1ab-46f5-815e-5a1c638f3eb8"
      },
      "source": [
        "#### Insertar documentos y embeddings:"
      ]
    },
    {
      "cell_type": "code",
      "execution_count": null,
      "id": "21351523-6e30-4039-a52d-43ec2f822448",
      "metadata": {
        "id": "21351523-6e30-4039-a52d-43ec2f822448"
      },
      "outputs": [],
      "source": [
        "def insert_documents_to_chromadb(df, embeddings):\n",
        "    \"\"\"\n",
        "    Inserta documentos, embeddings y metadatos en una colección de ChromaDB.\n",
        "\n",
        "    Parámetros:\n",
        "    df : pd.DataFrame\n",
        "        DataFrame que contiene los datos de las películas, incluyendo las columnas:\n",
        "        - 'Title': Título de la película.\n",
        "        - 'Plot': Trama de la película.\n",
        "    embeddings : np.ndarray\n",
        "        Numpy array que contiene los embeddings generados para los documentos (plots).\n",
        "        Cada fila corresponde al embedding de un documento en el DataFrame `df`.\n",
        "\n",
        "    Retorno:\n",
        "    None\n",
        "        La función no retorna valores, pero inserta los datos en la colección especificada de ChromaDB.\n",
        "    \"\"\"\n",
        "    ids = [str(idx) for idx in range(len(df))]  # IDs como strings\n",
        "    documents = df['Plot'].tolist()  # Lista de textos (plots)\n",
        "    metadatas = [{\"Title\": row['Title'], \"Plot\": row['Plot'], \"Index\": idx} for idx, row in df.iterrows()]  # Metadatos\n",
        "\n",
        "    # Insertar en ChromaDB\n",
        "    collection.add(\n",
        "        ids=ids,\n",
        "        documents=documents,\n",
        "        embeddings=embeddings.tolist(),  # Convertir a lista si es necesario\n",
        "        metadatas=metadatas\n",
        "    )\n",
        "    print(f\"Insertados {len(documents)} documentos en ChromaDB.\")"
      ]
    },
    {
      "cell_type": "code",
      "execution_count": null,
      "id": "0d968fec-c8c3-4374-8734-65df13f01a6d",
      "metadata": {
        "id": "0d968fec-c8c3-4374-8734-65df13f01a6d",
        "outputId": "3a38dc77-9899-4e03-fb38-a33898cbe6fa"
      },
      "outputs": [
        {
          "name": "stdout",
          "output_type": "stream",
          "text": [
            "Insertados 34886 documentos en ChromaDB.\n"
          ]
        }
      ],
      "source": [
        "# Insertar los documentos con los embeddings\n",
        "insert_documents_to_chromadb(df, embeddings)"
      ]
    },
    {
      "cell_type": "markdown",
      "id": "e9975b27-bf74-419f-b107-eaa47b37b6d1",
      "metadata": {
        "id": "e9975b27-bf74-419f-b107-eaa47b37b6d1"
      },
      "source": [
        "#### Realizar consultas:"
      ]
    },
    {
      "cell_type": "code",
      "execution_count": null,
      "id": "5389672a-83a1-4184-ab2b-622586092cb8",
      "metadata": {
        "id": "5389672a-83a1-4184-ab2b-622586092cb8"
      },
      "outputs": [],
      "source": [
        "# Función para realizar consultas con ChromaDB\n",
        "def search_chromadb(query, top_k=5):\n",
        "    \"\"\"\n",
        "    Realiza una consulta en ChromaDB para encontrar los documentos más relevantes\n",
        "    basados en embeddings y devuelve los resultados más cercanos.\n",
        "\n",
        "    Parámetros:\n",
        "    query : str\n",
        "        Texto de la consulta que el usuario desea buscar en la base de datos.\n",
        "    top_k : int, opcional\n",
        "        Número de resultados más cercanos que se deben recuperar (por defecto es 5).\n",
        "\n",
        "\n",
        "    Retorno:\n",
        "    pd.DataFrame\n",
        "        DataFrame que contiene los resultados más relevantes, con las siguientes columnas:\n",
        "        - \"Index\": Índice original del documento en el DataFrame de origen.\n",
        "        - \"Title\": Título del documento.\n",
        "        - \"Plot\": Trama del documento.\n",
        "        - \"Distance\": Distancia del documento al embedding de la consulta (a menor distancia, mayor relevancia).\n",
        "\n",
        "    \"\"\"\n",
        "    # Generar embedding para la consulta\n",
        "    query_embedding = model.encode([query])[0]\n",
        "\n",
        "    # Buscar los vectores más cercanos\n",
        "    results = collection.query(\n",
        "        query_embeddings=[query_embedding],\n",
        "        n_results=top_k,\n",
        "        include=[\"metadatas\", \"distances\"]\n",
        "    )\n",
        "\n",
        "    # Formatear los resultados en un DataFrame\n",
        "    result_list = []\n",
        "    for metadata, distance in zip(results[\"metadatas\"][0], results[\"distances\"][0]):\n",
        "        result_list.append({\n",
        "            \"Index\": metadata[\"Index\"],\n",
        "            \"Title\": metadata[\"Title\"],\n",
        "            \"Plot\": metadata[\"Plot\"],\n",
        "            \"Distance\": distance\n",
        "        })\n",
        "\n",
        "    df_results = pd.DataFrame(result_list).set_index(\"Index\")\n",
        "    return df_results"
      ]
    },
    {
      "cell_type": "code",
      "execution_count": null,
      "id": "9cbd63ef-967a-409c-9fb6-fef13f2b618a",
      "metadata": {
        "id": "9cbd63ef-967a-409c-9fb6-fef13f2b618a",
        "outputId": "d74ff047-ce17-41de-d087-63c12730d584"
      },
      "outputs": [
        {
          "name": "stdout",
          "output_type": "stream",
          "text": [
            "                                              Title  \\\n",
            "Index                                                 \n",
            "12016                                 Jurassic Park   \n",
            "10697  Dinosaurs! – A Fun-Filled Trip Back in Time!   \n",
            "7374                                 The Lost World   \n",
            "12568                                  Theodore Rex   \n",
            "10321               Baby: Secret of the Lost Legend   \n",
            "\n",
            "                                                    Plot  Distance  \n",
            "Index                                                               \n",
            "12016  Industrialist John Hammond and his bioengineer...  1.004112  \n",
            "10697  The video—with beginning scenes filmed in 1987...  1.023169  \n",
            "7374   Professor Challenger (Claude Rains), a famed b...  1.030120  \n",
            "12568  In an alternate futuristic society where human...  1.031269  \n",
            "10321  During an expedition into Central Africa, pale...  1.061895  \n"
          ]
        }
      ],
      "source": [
        "# Ejemplo de consulta\n",
        "query = \"dinosaurs\"\n",
        "results = search_chromadb(query)\n",
        "print(results)"
      ]
    },
    {
      "cell_type": "markdown",
      "id": "d0639abd-799c-42cc-93ff-0fb80c2478f9",
      "metadata": {
        "id": "d0639abd-799c-42cc-93ff-0fb80c2478f9"
      },
      "source": [
        "### Parte 5: Comparación de Resultados"
      ]
    },
    {
      "cell_type": "code",
      "execution_count": null,
      "id": "d19130e6-9afd-4c25-af02-1d7e057d510a",
      "metadata": {
        "id": "d19130e6-9afd-4c25-af02-1d7e057d510a"
      },
      "outputs": [],
      "source": [
        "from collections import Counter"
      ]
    },
    {
      "cell_type": "code",
      "execution_count": null,
      "id": "9eee94c7-09fb-4664-a3ec-7d8eda851202",
      "metadata": {
        "id": "9eee94c7-09fb-4664-a3ec-7d8eda851202"
      },
      "outputs": [],
      "source": [
        "# Consulta y comparación\n",
        "query = \"dinosaurs\"\n",
        "top_k = 5"
      ]
    },
    {
      "cell_type": "code",
      "execution_count": null,
      "id": "f64a1343-3bb2-4591-a508-855eccf9203b",
      "metadata": {
        "id": "f64a1343-3bb2-4591-a508-855eccf9203b"
      },
      "outputs": [],
      "source": [
        "# Realizar consultas y agregar columna \"Method\"\n",
        "results_tfidf = search_tfidf(query, top_k).copy()\n",
        "results_tfidf[\"Method\"] = \"TF-IDF\"\n",
        "results_tfidf[\"Original Index\"] = results_tfidf.index\n",
        "\n",
        "results_bm25 = search_bm25(query, top_k).copy()\n",
        "results_bm25[\"Method\"] = \"BM25\"\n",
        "results_bm25[\"Original Index\"] = results_bm25.index\n",
        "\n",
        "results_faiss = search_faiss(query, top_k).copy()\n",
        "results_faiss[\"Method\"] = \"FAISS\"\n",
        "results_faiss[\"Original Index\"] = results_faiss.index\n",
        "\n",
        "results_chromadb = search_chromadb(query, top_k).copy()\n",
        "results_chromadb[\"Method\"] = \"ChromaDB\"\n",
        "results_chromadb[\"Original Index\"] = results_chromadb.index"
      ]
    },
    {
      "cell_type": "code",
      "execution_count": null,
      "id": "fee455ba-a938-4a22-abcc-360a537a06a4",
      "metadata": {
        "id": "fee455ba-a938-4a22-abcc-360a537a06a4"
      },
      "outputs": [],
      "source": [
        "# Concatenar los resultados en un único DataFrame\n",
        "comparison_results = pd.concat([results_tfidf, results_bm25, results_faiss, results_chromadb], ignore_index=True)"
      ]
    },
    {
      "cell_type": "code",
      "execution_count": null,
      "id": "e7fceed7-001d-46d6-8fe9-2f5f98e7b076",
      "metadata": {
        "id": "e7fceed7-001d-46d6-8fe9-2f5f98e7b076"
      },
      "outputs": [],
      "source": [
        "# Función para mostrar los resultados organizados por método\n",
        "def display_results_by_method(df):\n",
        "    methods = df[\"Method\"].unique()\n",
        "    for method in methods:\n",
        "        print(f\"\\nResultados para el método: {method}\\n\")\n",
        "        method_results = df[df[\"Method\"] == method].copy()\n",
        "        method_results.set_index(\"Original Index\", inplace=True)\n",
        "        # Ordenar por Score o Distance según corresponda\n",
        "        if \"Score\" in method_results.columns:\n",
        "            method_results = method_results.sort_values(by=\"Score\", ascending=False)\n",
        "        if \"Distance\" in method_results.columns:\n",
        "            method_results = method_results.sort_values(by=\"Distance\", ascending=True)\n",
        "        print(method_results[[\"Title\", \"Score\", \"Distance\"]])"
      ]
    },
    {
      "cell_type": "code",
      "execution_count": null,
      "id": "7767743d-dfec-4dec-8fb6-943d46bfcc40",
      "metadata": {
        "id": "7767743d-dfec-4dec-8fb6-943d46bfcc40",
        "outputId": "764bf923-0140-454a-e6c0-899fd3770505"
      },
      "outputs": [
        {
          "name": "stdout",
          "output_type": "stream",
          "text": [
            "\n",
            "Resultados para el método: TF-IDF\n",
            "\n",
            "                                         Title     Score  Distance\n",
            "Original Index                                                    \n",
            "12103           We're Back! A Dinosaur's Story  0.467935       NaN\n",
            "12568                             Theodore Rex  0.381369       NaN\n",
            "12989                               Future War  0.282999       NaN\n",
            "21252                     The Dinosaur Project  0.261480       NaN\n",
            "31128                          Adhisaya Ulagam  0.241712       NaN\n",
            "\n",
            "Resultados para el método: BM25\n",
            "\n",
            "                                         Title      Score  Distance\n",
            "Original Index                                                     \n",
            "12103           We're Back! A Dinosaur's Story  12.856184       NaN\n",
            "12568                             Theodore Rex  11.746374       NaN\n",
            "12989                               Future War  11.591837       NaN\n",
            "4803                            Unknown Island  11.046180       NaN\n",
            "31128                          Adhisaya Ulagam  10.903929       NaN\n",
            "\n",
            "Resultados para el método: FAISS\n",
            "\n",
            "                                                       Title  Score  Distance\n",
            "Original Index                                                               \n",
            "12016                                          Jurassic Park    NaN  1.004112\n",
            "10697           Dinosaurs! – A Fun-Filled Trip Back in Time!    NaN  1.023169\n",
            "7374                                          The Lost World    NaN  1.030121\n",
            "12568                                           Theodore Rex    NaN  1.031269\n",
            "10321                        Baby: Secret of the Lost Legend    NaN  1.061895\n",
            "\n",
            "Resultados para el método: ChromaDB\n",
            "\n",
            "                                                       Title  Score  Distance\n",
            "Original Index                                                               \n",
            "12016                                          Jurassic Park    NaN  1.004112\n",
            "10697           Dinosaurs! – A Fun-Filled Trip Back in Time!    NaN  1.023169\n",
            "7374                                          The Lost World    NaN  1.030120\n",
            "12568                                           Theodore Rex    NaN  1.031269\n",
            "10321                        Baby: Secret of the Lost Legend    NaN  1.061895\n"
          ]
        }
      ],
      "source": [
        "# Mostrar los resultados organizados por método\n",
        "display_results_by_method(comparison_results)"
      ]
    },
    {
      "cell_type": "markdown",
      "id": "432c8a47-0f52-43cf-9a5d-7bdcf562ab27",
      "metadata": {
        "id": "432c8a47-0f52-43cf-9a5d-7bdcf562ab27"
      },
      "source": []
    },
    {
      "cell_type": "code",
      "execution_count": null,
      "id": "2acb8876-73fb-4fd2-81e6-4fa74196c34d",
      "metadata": {
        "id": "2acb8876-73fb-4fd2-81e6-4fa74196c34d"
      },
      "outputs": [],
      "source": [
        "def get_top_common_indices(query, top_k=25):\n",
        "    \"\"\"\n",
        "    Identifica los índices más comunes entre los resultados devueltos por diferentes\n",
        "    métodos de recuperación (TF-IDF, BM25, FAISS y ChromaDB) para una consulta específica.\n",
        "\n",
        "    Parámetros:\n",
        "    query : str\n",
        "        El texto de la consulta que el usuario desea buscar en el corpus.\n",
        "    top_k : int, opcional\n",
        "        El número de resultados más relevantes que se deben recuperar de cada método (por defecto es 25).\n",
        "\n",
        "    Retorno:\n",
        "    list\n",
        "        Lista de índices relevantes que aparecen en los resultados de al menos dos métodos diferentes.\n",
        "\n",
        "    \"\"\"\n",
        "    # Obtener resultados de los métodos\n",
        "    indices_tfidf = search_tfidf(query, top_k=top_k).index.tolist()\n",
        "    indices_bm25 = search_bm25(query, top_k=top_k).index.tolist()\n",
        "    indices_faiss = search_faiss(query, top_k=top_k).index.tolist()\n",
        "    indices_chromadb = search_chromadb(query, top_k=top_k).index.tolist()\n",
        "\n",
        "    # Combinar resultados\n",
        "    combined_indices = indices_tfidf + indices_bm25 + indices_faiss + indices_chromadb\n",
        "\n",
        "    # Contar frecuencia de aparición de los índices\n",
        "    counter = Counter(combined_indices)\n",
        "\n",
        "    # Seleccionar los más comunes\n",
        "    relevant_indices = [idx for idx, count in counter.items() if count > 1]  # Índices que aparecen al menos en 2 métodos\n",
        "    return relevant_indices"
      ]
    },
    {
      "cell_type": "code",
      "execution_count": null,
      "id": "018578d5-6b24-47bf-a3d3-1abf213a88db",
      "metadata": {
        "id": "018578d5-6b24-47bf-a3d3-1abf213a88db",
        "outputId": "289e0e0e-eb11-49ea-f87e-68c299bc9966"
      },
      "outputs": [
        {
          "name": "stdout",
          "output_type": "stream",
          "text": [
            "{'dinosaurs': [12103, 12568, 12989, 21252, 31128, 10321, 4803, 7342, 12390, 12016, 13054, 12644, 12484, 5425, 5536, 33672, 33377, 33398, 10697, 7374, 13637, 17914, 10994, 16998, 15699, 33090, 33180, 15014, 33050, 7175, 19427, 12160, 14126], 'cyborg': [12989, 33064, 33072, 12838, 23638, 34434, 33521, 23660, 33017, 33018, 12407, 17621, 12170, 16582, 11849, 33175, 33102, 8074, 11240, 14466, 33408, 33435, 17071, 32930, 32944, 33088, 16748, 21326, 11623, 33716, 33278, 10298, 13509, 11269, 33200, 21735, 33489, 33228, 33863, 33397, 33148], 'story': [24974, 25, 29178, 23427, 22842, 26969, 22113, 28479, 29688, 23887, 28963, 28999, 28952, 34851, 30668, 29207, 31594, 29235, 17238, 22964, 30868, 20159, 34796], 'war': [18511, 18893, 18810, 6560, 5630, 33671, 24929, 5569, 10421, 5623, 18188, 20384, 3814, 31611, 3642, 3402, 18090, 18881, 30179, 18125, 16451, 10667, 18430, 21719, 7595, 22102, 7578, 34323, 34244, 11794, 9320, 17378, 14114, 3473, 33099], 'space': [33756, 21592, 7121, 6174, 12181, 13133, 34216, 10122, 8161, 33715, 32884, 7638, 19293, 7120, 32988, 17566, 32849, 8254, 21727, 34105, 9022, 32971, 10618, 11439, 33622, 34281, 21558, 33396, 33096, 6261, 15733, 16886, 21498, 7926, 32834, 10762, 10745]}\n"
          ]
        }
      ],
      "source": [
        "# Crear automáticamente los documentos relevantes\n",
        "queries = [\"dinosaurs\", \"cyborg\", \"story\", \"war\", \"space\"]\n",
        "relevant_documents = {query: get_top_common_indices(query) for query in queries}\n",
        "\n",
        "print(relevant_documents)"
      ]
    },
    {
      "cell_type": "code",
      "execution_count": null,
      "id": "e0f4ada4-2758-40f5-851d-c9977e3a8b0f",
      "metadata": {
        "id": "e0f4ada4-2758-40f5-851d-c9977e3a8b0f"
      },
      "outputs": [],
      "source": [
        "def calculate_relevance_metrics(query, results_df, relevant_indices):\n",
        "    \"\"\"\n",
        "    Calcula las métricas de relevancia (Precisión y Recall) para una consulta específica\n",
        "    basándose en los resultados recuperados y los índices de documentos relevantes.\n",
        "\n",
        "    Parámetros:\n",
        "    query : str\n",
        "        El texto de la consulta que se está evaluando.\n",
        "    results_df : pandas.DataFrame\n",
        "        DataFrame que contiene los resultados recuperados por un método de búsqueda.\n",
        "        Debe tener los índices de los documentos como `Index`.\n",
        "    relevant_indices : list\n",
        "        Lista de índices que representan los documentos relevantes para la consulta.\n",
        "\n",
        "    Retorno:\n",
        "    tuple\n",
        "        Una tupla que contiene:\n",
        "        - `precision` (float): Proporción de documentos relevantes sobre los recuperados.\n",
        "        - `recall` (float): Proporción de documentos relevantes recuperados sobre el total de documentos relevantes.\n",
        "\n",
        "    \"\"\"\n",
        "    retrieved_indices = results_df.index.tolist()  # Índices de los documentos recuperados\n",
        "    relevant_retrieved = set(retrieved_indices) & set(relevant_indices)  # Intersección: relevantes recuperados\n",
        "\n",
        "    precision = len(relevant_retrieved) / len(retrieved_indices) if retrieved_indices else 0  # Qué tan precisos son\n",
        "    recall = len(relevant_retrieved) / len(relevant_indices) if relevant_indices else 0  # Qué tan completos son\n",
        "\n",
        "    return precision, recall\n"
      ]
    },
    {
      "cell_type": "code",
      "execution_count": null,
      "id": "b71bf317-5ce1-4251-bdb6-527879386f00",
      "metadata": {
        "id": "b71bf317-5ce1-4251-bdb6-527879386f00"
      },
      "outputs": [],
      "source": [
        "def compare_methods(queries, relevant_documents):\n",
        "    \"\"\"\n",
        "    Compara las métricas de precisión y recall de diferentes métodos de recuperación (TF-IDF, BM25, FAISS, ChromaDB)\n",
        "    para un conjunto de consultas y documentos relevantes.\n",
        "\n",
        "    Parámetros:\n",
        "    queries : list\n",
        "        Lista de consultas (strings) a evaluar.\n",
        "    relevant_documents : dict\n",
        "        Diccionario donde las claves son las consultas (strings) y los valores son listas de índices relevantes para cada consulta.\n",
        "\n",
        "    Retorno:\n",
        "    pandas.DataFrame\n",
        "        DataFrame con las métricas de precisión y recall para cada consulta y método.\n",
        "        Contiene las columnas:\n",
        "        - `Query`: La consulta evaluada.\n",
        "        - `Method`: El método de recuperación evaluado (e.g., TF-IDF, BM25, FAISS, ChromaDB).\n",
        "        - `Precision`: La precisión obtenida para ese método y consulta.\n",
        "        - `Recall`: El recall obtenido para ese método y consulta.\n",
        "    \"\"\"\n",
        "    comparison_metrics = []\n",
        "\n",
        "    for query in queries:\n",
        "        print(f\"\\nConsulta: {query}\")\n",
        "        relevant_indices = relevant_documents[query]\n",
        "\n",
        "        # Ejecutar consultas en cada método\n",
        "        tfidf_results = search_tfidf(query, top_k=10)\n",
        "        bm25_results = search_bm25(query, top_k=10)\n",
        "        faiss_results = search_faiss(query, top_k=10)\n",
        "        chromadb_results = search_chromadb(query, top_k=10)\n",
        "\n",
        "        # Calcular métricas de relevancia para cada método\n",
        "        tfidf_precision, tfidf_recall = calculate_relevance_metrics(query, tfidf_results, relevant_indices)\n",
        "        bm25_precision, bm25_recall = calculate_relevance_metrics(query, bm25_results, relevant_indices)\n",
        "        faiss_precision, faiss_recall = calculate_relevance_metrics(query, faiss_results, relevant_indices)\n",
        "        chromadb_precision, chromadb_recall = calculate_relevance_metrics(query, chromadb_results, relevant_indices)\n",
        "\n",
        "        # Guardar los resultados\n",
        "        comparison_metrics.append({\n",
        "            \"Query\": query,\n",
        "            \"Method\": \"TF-IDF\",\n",
        "            \"Precision\": tfidf_precision,\n",
        "            \"Recall\": tfidf_recall\n",
        "        })\n",
        "        comparison_metrics.append({\n",
        "            \"Query\": query,\n",
        "            \"Method\": \"BM25\",\n",
        "            \"Precision\": bm25_precision,\n",
        "            \"Recall\": bm25_recall\n",
        "        })\n",
        "        comparison_metrics.append({\n",
        "            \"Query\": query,\n",
        "            \"Method\": \"FAISS\",\n",
        "            \"Precision\": faiss_precision,\n",
        "            \"Recall\": faiss_recall\n",
        "        })\n",
        "        comparison_metrics.append({\n",
        "            \"Query\": query,\n",
        "            \"Method\": \"ChromaDB\",\n",
        "            \"Precision\": chromadb_precision,\n",
        "            \"Recall\": chromadb_recall\n",
        "        })\n",
        "\n",
        "    return pd.DataFrame(comparison_metrics)"
      ]
    },
    {
      "cell_type": "code",
      "execution_count": null,
      "id": "3de4de45-02d6-4cf5-be75-fb7ae3e0a7fd",
      "metadata": {
        "id": "3de4de45-02d6-4cf5-be75-fb7ae3e0a7fd",
        "outputId": "d12c2a40-6415-4fe4-a245-a06cf6ec1b08"
      },
      "outputs": [
        {
          "name": "stdout",
          "output_type": "stream",
          "text": [
            "\n",
            "Consulta: dinosaurs\n",
            "\n",
            "Consulta: cyborg\n",
            "\n",
            "Consulta: story\n",
            "\n",
            "Consulta: war\n",
            "\n",
            "Consulta: space\n",
            "        Query    Method  Precision    Recall\n",
            "0   dinosaurs    TF-IDF        1.0  0.303030\n",
            "1   dinosaurs      BM25        1.0  0.303030\n",
            "2   dinosaurs     FAISS        1.0  0.303030\n",
            "3   dinosaurs  ChromaDB        1.0  0.303030\n",
            "4      cyborg    TF-IDF        1.0  0.243902\n",
            "5      cyborg      BM25        1.0  0.243902\n",
            "6      cyborg     FAISS        1.0  0.243902\n",
            "7      cyborg  ChromaDB        1.0  0.243902\n",
            "8       story    TF-IDF        0.3  0.130435\n",
            "9       story      BM25        0.2  0.086957\n",
            "10      story     FAISS        0.9  0.391304\n",
            "11      story  ChromaDB        1.0  0.434783\n",
            "12        war    TF-IDF        0.7  0.200000\n",
            "13        war      BM25        0.9  0.257143\n",
            "14        war     FAISS        0.9  0.257143\n",
            "15        war  ChromaDB        1.0  0.285714\n",
            "16      space    TF-IDF        0.9  0.243243\n",
            "17      space      BM25        1.0  0.270270\n",
            "18      space     FAISS        1.0  0.270270\n",
            "19      space  ChromaDB        1.0  0.270270\n"
          ]
        }
      ],
      "source": [
        "# Ejecutar la comparación\n",
        "metrics_df = compare_methods(queries, relevant_documents)\n",
        "print(metrics_df)\n"
      ]
    },
    {
      "cell_type": "code",
      "execution_count": null,
      "id": "23fbff0f-52fa-404c-b047-e6d7fee5ff67",
      "metadata": {
        "id": "23fbff0f-52fa-404c-b047-e6d7fee5ff67"
      },
      "outputs": [],
      "source": []
    }
  ],
  "metadata": {
    "colab": {
      "provenance": []
    },
    "kernelspec": {
      "display_name": "Python 3 (ipykernel)",
      "language": "python",
      "name": "python3"
    },
    "language_info": {
      "codemirror_mode": {
        "name": "ipython",
        "version": 3
      },
      "file_extension": ".py",
      "mimetype": "text/x-python",
      "name": "python",
      "nbconvert_exporter": "python",
      "pygments_lexer": "ipython3",
      "version": "3.11.7"
    }
  },
  "nbformat": 4,
  "nbformat_minor": 5
}
